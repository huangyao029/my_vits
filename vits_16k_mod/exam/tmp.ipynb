{
 "cells": [
  {
   "cell_type": "code",
   "execution_count": 3,
   "metadata": {},
   "outputs": [
    {
     "name": "stdout",
     "output_type": "stream",
     "text": [
      "60\n",
      "A23 : 250\n",
      "C12 : 250\n",
      "C22 : 250\n",
      "A7 : 249\n",
      "C14 : 250\n",
      "B6 : 248\n",
      "B11 : 250\n",
      "A11 : 250\n",
      "C17 : 250\n",
      "C18 : 250\n",
      "C19 : 250\n",
      "B22 : 250\n",
      "C20 : 250\n",
      "C31 : 250\n",
      "B8 : 250\n",
      "A2 : 249\n",
      "B4 : 250\n",
      "A36 : 250\n",
      "D21 : 250\n",
      "C6 : 250\n",
      "A34 : 249\n",
      "A14 : 250\n",
      "D7 : 249\n",
      "C13 : 250\n",
      "D8 : 250\n",
      "C4 : 250\n",
      "B7 : 249\n",
      "D6 : 250\n",
      "D31 : 250\n",
      "B33 : 250\n",
      "A33 : 110\n",
      "D13 : 250\n",
      "A6 : 250\n",
      "D32 : 249\n",
      "D11 : 249\n",
      "A19 : 250\n",
      "A12 : 150\n",
      "D4 : 250\n",
      "B12 : 250\n",
      "A8 : 250\n",
      "B31 : 250\n",
      "B15 : 250\n",
      "B2 : 249\n",
      "A22 : 250\n",
      "C23 : 250\n",
      "B32 : 250\n",
      "C7 : 249\n",
      "A4 : 250\n",
      "C2 : 90\n",
      "D12 : 248\n",
      "C21 : 250\n",
      "C8 : 250\n",
      "A13 : 250\n",
      "A32 : 250\n",
      "C32 : 250\n",
      "B21 : 19\n",
      "A9 : 13\n",
      "A5 : 5\n",
      "B34 : 7\n",
      "A35 : 7\n"
     ]
    }
   ],
   "source": [
    "import glob, os\n",
    "\n",
    "file_list = glob.glob('/ZFS4T/opensrl/thchs30/data_thchs30/data/*.wav')\n",
    "dit = {}\n",
    "for pth in file_list:\n",
    "    basename = os.path.basename(pth)\n",
    "    spk_name, seq = basename.split('.wav')[0].split('_')\n",
    "    if spk_name not in dit:\n",
    "        dit[spk_name] = []\n",
    "    dit[spk_name].append(pth)\n",
    "print(len(dit))\n",
    "for spk_name, val in dit.items():\n",
    "    print('%s : %d'%(spk_name, len(val))) "
   ]
  },
  {
   "cell_type": "code",
   "execution_count": 6,
   "metadata": {},
   "outputs": [
    {
     "name": "stdout",
     "output_type": "stream",
     "text": [
      "109036\n",
      "109036\n"
     ]
    }
   ],
   "source": [
    "import os\n",
    "import soundfile as sf\n",
    "\n",
    "print(os.path.getsize('/ZFS4T/opensrl/aishell1_part/S0176/BAC009S0176W0317.wav'))\n",
    "wav = sf.read('/ZFS4T/opensrl/aishell1_part/S0176/BAC009S0176W0317.wav')[0]\n",
    "print(len(wav) * 2 + 44)"
   ]
  },
  {
   "cell_type": "code",
   "execution_count": 7,
   "metadata": {},
   "outputs": [
    {
     "name": "stdout",
     "output_type": "stream",
     "text": [
      "10\n",
      "9\n",
      "8\n",
      "7\n",
      "6\n",
      "5\n",
      "4\n",
      "3\n",
      "2\n",
      "1\n"
     ]
    }
   ],
   "source": [
    "for i in range(10, 0, -1):\n",
    "    print(i)"
   ]
  },
  {
   "cell_type": "code",
   "execution_count": 8,
   "metadata": {},
   "outputs": [
    {
     "name": "stdout",
     "output_type": "stream",
     "text": [
      "tensor([1, 7, 2, 0, 9, 3, 5, 6, 4, 8])\n"
     ]
    }
   ],
   "source": [
    "import torch\n",
    "\n",
    "g  = torch.Generator()\n",
    "g.manual_seed(11)\n",
    "\n",
    "print(torch.randperm(10, generator = g))"
   ]
  },
  {
   "cell_type": "code",
   "execution_count": 14,
   "metadata": {},
   "outputs": [
    {
     "name": "stdout",
     "output_type": "stream",
     "text": [
      "torch.Size([1, 1, 4, 4])\n"
     ]
    }
   ],
   "source": [
    "import torch\n",
    "\n",
    "print(torch.tril(torch.ones(4, 4)).unsqueeze(0).unsqueeze(0).shape)"
   ]
  },
  {
   "cell_type": "code",
   "execution_count": 15,
   "metadata": {},
   "outputs": [
    {
     "name": "stdout",
     "output_type": "stream",
     "text": [
      "tensor([0, 1, 2, 3, 4, 5, 6, 7, 8, 9])\n"
     ]
    }
   ],
   "source": [
    "import torch\n",
    "\n",
    "print(torch.arange(10))"
   ]
  },
  {
   "cell_type": "code",
   "execution_count": 17,
   "metadata": {},
   "outputs": [
    {
     "name": "stdout",
     "output_type": "stream",
     "text": [
      "tensor([[ True,  True,  True, False],\n",
      "        [ True,  True,  True,  True],\n",
      "        [ True,  True, False, False]])\n"
     ]
    }
   ],
   "source": [
    "import torch\n",
    "\n",
    "def sequence_mask(length, max_length=None):\n",
    "    if max_length is None:\n",
    "        max_length = length.max()\n",
    "    x = torch.arange(max_length, dtype=length.dtype, device=length.device)\n",
    "    return x.unsqueeze(0) < length.unsqueeze(1)\n",
    "\n",
    "length = torch.Tensor([3, 4, 2])\n",
    "max_length = 4\n",
    "print(sequence_mask(length, max_length))\n"
   ]
  },
  {
   "cell_type": "code",
   "execution_count": 6,
   "metadata": {},
   "outputs": [
    {
     "name": "stdout",
     "output_type": "stream",
     "text": [
      "3.44%\n"
     ]
    }
   ],
   "source": [
    "print('%.2f%%'%(3.444))"
   ]
  },
  {
   "cell_type": "code",
   "execution_count": 15,
   "metadata": {},
   "outputs": [
    {
     "name": "stdout",
     "output_type": "stream",
     "text": [
      "}\n",
      "    \"\\uff50\": 190\n",
      "    \"\\uff42\": 189,\n",
      "    \"\\uff1f\": 188,\n",
      "    \"\\uff0c\": 187,\n",
      "    \"\\uff01\": 186,\n",
      "    \"\\u3002\": 185,\n",
      "    \"zh\": 184,\n",
      "    \"z\": 183,\n",
      "    \"y\": 182,\n",
      "    \"x\": 181,\n",
      "    \"w\": 180,\n",
      "    \"v\\u00e80\": 179,\n",
      "    \"v4\": 178,\n",
      "    \"v3\": 177,\n",
      "    \"v2\": 176,\n",
      "    \"uo4\": 175,\n",
      "    \"uo3\": 174,\n",
      "    \"uo2\": 173,\n",
      "    \"uo1\": 172,\n",
      "    \"uo\": 171,\n",
      "    \"un4\": 170,\n",
      "    \"un3\": 169,\n",
      "    \"un2\": 168,\n",
      "    \"un1\": 167,\n",
      "    \"un\": 166,\n",
      "    \"ui4\": 165,\n",
      "    \"ui3\": 164,\n",
      "    \"ui2\": 163,\n",
      "    \"ui1\": 162,\n",
      "    \"ue4\": 161,\n",
      "    \"ue3\": 160,\n",
      "    \"ue2\": 159,\n",
      "    \"ue1\": 158,\n",
      "    \"uang4\": 157,\n",
      "    \"uang3\": 156,\n",
      "    \"uang2\": 155,\n",
      "    \"uang1\": 154,\n",
      "    \"uang\": 153,\n",
      "    \"uan4\": 152,\n",
      "    \"uan3\": 151,\n",
      "    \"uan2\": 150,\n",
      "    \"uan1\": 149,\n",
      "    \"uan\": 148,\n",
      "    \"uai4\": 147,\n",
      "    \"uai3\": 146,\n",
      "    \"uai2\": 145,\n",
      "    \"uai1\": 144,\n",
      "    \"uai\": 143,\n",
      "    \"ua4\": 142,\n",
      "    \"ua3\": 141,\n",
      "    \"ua2\": 140,\n",
      "    \"ua1\": 139,\n",
      "    \"ua\": 138,\n",
      "    \"u4\": 137,\n",
      "    \"u3\": 136,\n",
      "    \"u2\": 135,\n",
      "    \"u1\": 134,\n",
      "    \"u\": 133,\n",
      "    \"t\": 132,\n",
      "    \"sh\": 131,\n",
      "    \"s\": 130,\n",
      "    \"r\": 129,\n",
      "    \"q\": 128,\n",
      "    \"p\": 127,\n",
      "    \"ou4\": 126,\n",
      "    \"ou3\": 125,\n",
      "    \"ou2\": 124,\n",
      "    \"ou1\": 123,\n",
      "    \"ou\": 122,\n",
      "    \"ong4\": 121,\n",
      "    \"ong3\": 120,\n",
      "    \"ong2\": 119,\n",
      "    \"ong1\": 118,\n",
      "    \"ong\": 117,\n",
      "    \"o4\": 116,\n",
      "    \"o3\": 115,\n",
      "    \"o2\": 114,\n",
      "    \"o1\": 113,\n",
      "    \"o\": 112,\n",
      "    \"n2\": 111,\n",
      "    \"n\": 110,\n",
      "    \"m\": 109,\n",
      "    \"l\": 108,\n",
      "    \"k\": 107,\n",
      "    \"j\": 106,\n",
      "    \"iu4\": 105,\n",
      "    \"iu3\": 104,\n",
      "    \"iu2\": 103,\n",
      "    \"iu1\": 102,\n",
      "    \"iu\": 101,\n",
      "    \"iong3\": 100,\n",
      "    \"iong2\": 99,\n",
      "    \"iong1\": 98,\n",
      "    \"ing4\": 97,\n",
      "    \"ing3\": 96,\n",
      "    \"ing2\": 95,\n",
      "    \"ing1\": 94,\n",
      "    \"ing\": 93,\n",
      "    \"in4\": 92,\n",
      "    \"in3\": 91,\n",
      "    \"in2\": 90,\n",
      "    \"in1\": 89,\n",
      "    \"in\": 88,\n",
      "    \"ie4\": 87,\n",
      "    \"ie3\": 86,\n",
      "    \"ie2\": 85,\n",
      "    \"ie1\": 84,\n",
      "    \"ie\": 83,\n",
      "    \"iao4\": 82,\n",
      "    \"iao3\": 81,\n",
      "    \"iao2\": 80,\n",
      "    \"iao1\": 79,\n",
      "    \"iao\": 78,\n",
      "    \"iang4\": 77,\n",
      "    \"iang3\": 76,\n",
      "    \"iang2\": 75,\n",
      "    \"iang1\": 74,\n",
      "    \"iang\": 73,\n",
      "    \"ian4\": 72,\n",
      "    \"ian3\": 71,\n",
      "    \"ian2\": 70,\n",
      "    \"ian1\": 69,\n",
      "    \"ian\": 68,\n",
      "    \"ia4\": 67,\n",
      "    \"ia3\": 66,\n",
      "    \"ia2\": 65,\n",
      "    \"ia1\": 64,\n",
      "    \"ia\": 63,\n",
      "    \"i4\": 62,\n",
      "    \"i3\": 61,\n",
      "    \"i2\": 60,\n",
      "    \"i1\": 59,\n",
      "    \"i\": 58,\n",
      "    \"h\": 57,\n",
      "    \"g\": 56,\n",
      "    \"f\": 55,\n",
      "    \"er4\": 54,\n",
      "    \"er3\": 53,\n",
      "    \"er2\": 52,\n",
      "    \"er\": 51,\n",
      "    \"eng4\": 50,\n",
      "    \"eng3\": 49,\n",
      "    \"eng2\": 48,\n",
      "    \"eng1\": 47,\n",
      "    \"eng\": 46,\n",
      "    \"en4\": 45,\n",
      "    \"en3\": 44,\n",
      "    \"en2\": 43,\n",
      "    \"en1\": 42,\n",
      "    \"en\": 41,\n",
      "    \"ei4\": 40,\n",
      "    \"ei3\": 39,\n",
      "    \"ei2\": 38,\n",
      "    \"ei1\": 37,\n",
      "    \"ei\": 36,\n",
      "    \"e4\": 35,\n",
      "    \"e3\": 34,\n",
      "    \"e2\": 33,\n",
      "    \"e1\": 32,\n",
      "    \"e\": 31,\n",
      "    \"d\": 30,\n",
      "    \"ch\": 29,\n",
      "    \"c\": 28,\n",
      "    \"b\": 27,\n",
      "    \"ao4\": 26,\n",
      "    \"ao3\": 25,\n",
      "    \"ao2\": 24,\n",
      "    \"ao1\": 23,\n",
      "    \"ao\": 22,\n",
      "    \"ang4\": 21,\n",
      "    \"ang3\": 20,\n",
      "    \"ang2\": 19,\n",
      "    \"ang1\": 18,\n",
      "    \"ang\": 17,\n",
      "    \"an4\": 16,\n",
      "    \"an3\": 15,\n",
      "    \"an2\": 14,\n",
      "    \"an1\": 13,\n",
      "    \"an\": 12,\n",
      "    \"ai4\": 11,\n",
      "    \"ai3\": 10,\n",
      "    \"ai2\": 9,\n",
      "    \"ai1\": 8,\n",
      "    \"ai\": 7,\n",
      "    \"a4\": 6,\n",
      "    \"a3\": 5,\n",
      "    \"a2\": 4,\n",
      "    \"a1\": 3,\n",
      "    \"a\": 2,\n",
      "    \"~\": 1,\n",
      "    \"_\": 0,\n",
      "{\n"
     ]
    }
   ],
   "source": [
    "with open('../symbol_to_id.json', 'r') as f:\n",
    "    for line in reversed(f.readlines()):\n",
    "        print(u'%s'%(line.rstrip()))"
   ]
  },
  {
   "cell_type": "code",
   "execution_count": 17,
   "metadata": {},
   "outputs": [],
   "source": [
    "import torch\n",
    "\n",
    "a = torch.load('/ZFS4T/opensrl/aishell1_part/S0710/BAC009S0710W0188.spec.pt')"
   ]
  },
  {
   "cell_type": "code",
   "execution_count": 3,
   "metadata": {},
   "outputs": [
    {
     "name": "stdout",
     "output_type": "stream",
     "text": [
      "/ZFS4T/tts/data/VITS/model_saved/G_4000.pth\n"
     ]
    }
   ],
   "source": [
    "import glob, os\n",
    "f_list = glob.glob(os.path.join('/ZFS4T/tts/data/VITS/model_saved/', 'G_*.pth'))\n",
    "f_list.sort(key=lambda f: int(\"\".join(filter(str.isdigit, f))))\n",
    "x = f_list[-1]\n",
    "print(x)"
   ]
  },
  {
   "cell_type": "code",
   "execution_count": null,
   "metadata": {},
   "outputs": [],
   "source": [
    "lst = [\n",
    "    '/mnt/disk3/huangyao/tts/vits/filelists/magicdata_audio_sid_train.16000.cleaned.txt',\n",
    "    '/mnt/disk3/huangyao/tts/vits/filelists/magicdata_audio_sid_valid.16000.cleaned.txt'\n",
    "]\n",
    "\n",
    "dit = {}\n",
    "idx = 0\n",
    "for filepth in lst:\n",
    "    with open(filepth, 'r') as f:\n",
    "        for line in f.readlines():\n",
    "            for p in line.rstrip().split('|')[-1].split():\n",
    "                if p not in dit:\n",
    "                    dit[p] = idx\n",
    "                    idx += 1\n",
    "\n",
    "print(dit)"
   ]
  },
  {
   "cell_type": "code",
   "execution_count": 3,
   "metadata": {},
   "outputs": [
    {
     "name": "stdout",
     "output_type": "stream",
     "text": [
      "torch.Size([3, 256])\n"
     ]
    }
   ],
   "source": [
    "import torch\n",
    "\n",
    "a = torch.nn.Embedding(6, 256)(torch.LongTensor([1, 2, 3]))\n",
    "print(a.shape)"
   ]
  },
  {
   "cell_type": "code",
   "execution_count": null,
   "metadata": {},
   "outputs": [],
   "source": []
  }
 ],
 "metadata": {
  "kernelspec": {
   "display_name": "torch2",
   "language": "python",
   "name": "python3"
  },
  "language_info": {
   "codemirror_mode": {
    "name": "ipython",
    "version": 3
   },
   "file_extension": ".py",
   "mimetype": "text/x-python",
   "name": "python",
   "nbconvert_exporter": "python",
   "pygments_lexer": "ipython3",
   "version": "3.9.18"
  }
 },
 "nbformat": 4,
 "nbformat_minor": 2
}
